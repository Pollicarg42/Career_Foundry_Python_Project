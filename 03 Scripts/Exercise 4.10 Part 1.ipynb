{
 "cells": [
  {
   "cell_type": "markdown",
   "id": "c20675ab",
   "metadata": {},
   "source": [
    "# Career Foundry Exercise 4.9 Part 2\n",
    "#### Gabriel Pollicar, November 30, 2023"
   ]
  },
  {
   "cell_type": "markdown",
   "id": "48d64b13",
   "metadata": {},
   "source": [
    "### Contents List:\n",
    "\n",
    "#### Importing Libraries and Datasets\n",
    "#### Task2. Reviewing for PHI/Security Implications\n",
    "#### "
   ]
  },
  {
   "cell_type": "markdown",
   "id": "3c6d545f",
   "metadata": {},
   "source": [
    "## Importing Libraries"
   ]
  },
  {
   "cell_type": "code",
   "execution_count": 2,
   "id": "30727afc",
   "metadata": {},
   "outputs": [],
   "source": [
    "# Importing Libraries\n",
    "import pandas as pd\n",
    "import numpy as np\n",
    "import os\n",
    "import matplotlib.pyplot as plt\n",
    "import matplotlib as mpl\n",
    "import seaborn as sns\n",
    "import scipy"
   ]
  },
  {
   "cell_type": "code",
   "execution_count": null,
   "id": "fc7a7234",
   "metadata": {},
   "outputs": [],
   "source": []
  },
  {
   "cell_type": "markdown",
   "id": "04bcb183",
   "metadata": {},
   "source": [
    "## Importing Datasets"
   ]
  },
  {
   "cell_type": "code",
   "execution_count": 73,
   "id": "f3bb2e44",
   "metadata": {},
   "outputs": [],
   "source": [
    "path3 = r'C:\\Users\\polli\\Career Foundry Python'\n",
    "ords_prods_cust_LargeInitial = pd.read_pickle(os.path.join(path3, 'Exercise 4.9','02 Data', 'ords_prods_custers.pkl'))"
   ]
  },
  {
   "cell_type": "code",
   "execution_count": 74,
   "id": "2bb72f08",
   "metadata": {},
   "outputs": [],
   "source": [
    "pd.set_option('display.max_columns', None)\n",
    "pd.set_option('display.max_rows', None)"
   ]
  },
  {
   "cell_type": "code",
   "execution_count": 75,
   "id": "ecc6cafa",
   "metadata": {},
   "outputs": [
    {
     "name": "stdout",
     "output_type": "stream",
     "text": [
      "<class 'pandas.core.frame.DataFrame'>\n",
      "RangeIndex: 32404859 entries, 0 to 32404858\n",
      "Data columns (total 16 columns):\n",
      " #   Column                Dtype  \n",
      "---  ------                -----  \n",
      " 0   product_id            int64  \n",
      " 1   product_name          object \n",
      " 2   department_id         int64  \n",
      " 3   prices                float64\n",
      " 4   orders_day_of_week    int64  \n",
      " 5   order_time(hour)      int64  \n",
      " 6   max_order             int64  \n",
      " 7   loyalty_flag          object \n",
      " 8   Average_Spent         float64\n",
      " 9   Spending_Flag         object \n",
      " 10  order_frequency_flag  object \n",
      " 11  State                 object \n",
      " 12  Age                   int64  \n",
      " 13  n_dependants          int64  \n",
      " 14  fam_status            object \n",
      " 15  income                int64  \n",
      "dtypes: float64(2), int64(8), object(6)\n",
      "memory usage: 3.9+ GB\n"
     ]
    }
   ],
   "source": [
    "# Importing Datasets\n",
    "\n",
    "#age, income, certain goods in the “department_id” column, and number of dependents orders_day_of_week” and “order_hour_of_day”\n",
    "#  order_time orders_day_of_week loyalty\n",
    "\n",
    "# Merged Orders and Products and Customers Dataset\n",
    "columns1 = ['order_id', 'user_id', 'order_number', 'days_since_prior_order', 'add_to_cart_order', 'price_range_loc', 'cust_frequency', '_merge']\n",
    "\n",
    "ords_prods_cust_LargeInitial.drop(columns1, axis=1, inplace=True)\n",
    "ords_prods_custs = ords_prods_cust_LargeInitial\n",
    "ords_prods_custs.info()"
   ]
  },
  {
   "cell_type": "markdown",
   "id": "848b7141",
   "metadata": {},
   "source": [
    "# Task #2 Reviewing for PHI/Security Implications"
   ]
  },
  {
   "cell_type": "code",
   "execution_count": 76,
   "id": "f998a271",
   "metadata": {
    "scrolled": true
   },
   "outputs": [
    {
     "data": {
      "text/html": [
       "<div>\n",
       "<style scoped>\n",
       "    .dataframe tbody tr th:only-of-type {\n",
       "        vertical-align: middle;\n",
       "    }\n",
       "\n",
       "    .dataframe tbody tr th {\n",
       "        vertical-align: top;\n",
       "    }\n",
       "\n",
       "    .dataframe thead th {\n",
       "        text-align: right;\n",
       "    }\n",
       "</style>\n",
       "<table border=\"1\" class=\"dataframe\">\n",
       "  <thead>\n",
       "    <tr style=\"text-align: right;\">\n",
       "      <th></th>\n",
       "      <th>product_id</th>\n",
       "      <th>product_name</th>\n",
       "      <th>department_id</th>\n",
       "      <th>prices</th>\n",
       "      <th>orders_day_of_week</th>\n",
       "      <th>order_time(hour)</th>\n",
       "      <th>max_order</th>\n",
       "      <th>loyalty_flag</th>\n",
       "      <th>Average_Spent</th>\n",
       "      <th>Spending_Flag</th>\n",
       "      <th>order_frequency_flag</th>\n",
       "      <th>State</th>\n",
       "      <th>Age</th>\n",
       "      <th>n_dependants</th>\n",
       "      <th>fam_status</th>\n",
       "      <th>income</th>\n",
       "    </tr>\n",
       "  </thead>\n",
       "  <tbody>\n",
       "    <tr>\n",
       "      <th>0</th>\n",
       "      <td>1</td>\n",
       "      <td>Chocolate Sandwich Cookies</td>\n",
       "      <td>19</td>\n",
       "      <td>5.8</td>\n",
       "      <td>6</td>\n",
       "      <td>11</td>\n",
       "      <td>32</td>\n",
       "      <td>Regular customer</td>\n",
       "      <td>6.935811</td>\n",
       "      <td>Low_spender</td>\n",
       "      <td>Frequent customer</td>\n",
       "      <td>Minnesota</td>\n",
       "      <td>81</td>\n",
       "      <td>1</td>\n",
       "      <td>married</td>\n",
       "      <td>49620</td>\n",
       "    </tr>\n",
       "    <tr>\n",
       "      <th>1</th>\n",
       "      <td>1</td>\n",
       "      <td>Chocolate Sandwich Cookies</td>\n",
       "      <td>19</td>\n",
       "      <td>5.8</td>\n",
       "      <td>6</td>\n",
       "      <td>17</td>\n",
       "      <td>32</td>\n",
       "      <td>Regular customer</td>\n",
       "      <td>6.935811</td>\n",
       "      <td>Low_spender</td>\n",
       "      <td>Frequent customer</td>\n",
       "      <td>Minnesota</td>\n",
       "      <td>81</td>\n",
       "      <td>1</td>\n",
       "      <td>married</td>\n",
       "      <td>49620</td>\n",
       "    </tr>\n",
       "    <tr>\n",
       "      <th>2</th>\n",
       "      <td>907</td>\n",
       "      <td>Premium Sliced Bacon</td>\n",
       "      <td>12</td>\n",
       "      <td>20.0</td>\n",
       "      <td>5</td>\n",
       "      <td>13</td>\n",
       "      <td>32</td>\n",
       "      <td>Regular customer</td>\n",
       "      <td>6.935811</td>\n",
       "      <td>Low_spender</td>\n",
       "      <td>Frequent customer</td>\n",
       "      <td>Minnesota</td>\n",
       "      <td>81</td>\n",
       "      <td>1</td>\n",
       "      <td>married</td>\n",
       "      <td>49620</td>\n",
       "    </tr>\n",
       "    <tr>\n",
       "      <th>3</th>\n",
       "      <td>907</td>\n",
       "      <td>Premium Sliced Bacon</td>\n",
       "      <td>12</td>\n",
       "      <td>20.0</td>\n",
       "      <td>5</td>\n",
       "      <td>14</td>\n",
       "      <td>32</td>\n",
       "      <td>Regular customer</td>\n",
       "      <td>6.935811</td>\n",
       "      <td>Low_spender</td>\n",
       "      <td>Frequent customer</td>\n",
       "      <td>Minnesota</td>\n",
       "      <td>81</td>\n",
       "      <td>1</td>\n",
       "      <td>married</td>\n",
       "      <td>49620</td>\n",
       "    </tr>\n",
       "    <tr>\n",
       "      <th>4</th>\n",
       "      <td>1000</td>\n",
       "      <td>Apricots</td>\n",
       "      <td>10</td>\n",
       "      <td>12.9</td>\n",
       "      <td>6</td>\n",
       "      <td>12</td>\n",
       "      <td>32</td>\n",
       "      <td>Regular customer</td>\n",
       "      <td>6.935811</td>\n",
       "      <td>Low_spender</td>\n",
       "      <td>Frequent customer</td>\n",
       "      <td>Minnesota</td>\n",
       "      <td>81</td>\n",
       "      <td>1</td>\n",
       "      <td>married</td>\n",
       "      <td>49620</td>\n",
       "    </tr>\n",
       "  </tbody>\n",
       "</table>\n",
       "</div>"
      ],
      "text/plain": [
       "   product_id                product_name  department_id  prices  \\\n",
       "0           1  Chocolate Sandwich Cookies             19     5.8   \n",
       "1           1  Chocolate Sandwich Cookies             19     5.8   \n",
       "2         907        Premium Sliced Bacon             12    20.0   \n",
       "3         907        Premium Sliced Bacon             12    20.0   \n",
       "4        1000                    Apricots             10    12.9   \n",
       "\n",
       "   orders_day_of_week  order_time(hour)  max_order      loyalty_flag  \\\n",
       "0                   6                11         32  Regular customer   \n",
       "1                   6                17         32  Regular customer   \n",
       "2                   5                13         32  Regular customer   \n",
       "3                   5                14         32  Regular customer   \n",
       "4                   6                12         32  Regular customer   \n",
       "\n",
       "   Average_Spent Spending_Flag order_frequency_flag      State  Age  \\\n",
       "0       6.935811   Low_spender    Frequent customer  Minnesota   81   \n",
       "1       6.935811   Low_spender    Frequent customer  Minnesota   81   \n",
       "2       6.935811   Low_spender    Frequent customer  Minnesota   81   \n",
       "3       6.935811   Low_spender    Frequent customer  Minnesota   81   \n",
       "4       6.935811   Low_spender    Frequent customer  Minnesota   81   \n",
       "\n",
       "   n_dependants fam_status  income  \n",
       "0             1    married   49620  \n",
       "1             1    married   49620  \n",
       "2             1    married   49620  \n",
       "3             1    married   49620  \n",
       "4             1    married   49620  "
      ]
     },
     "execution_count": 76,
     "metadata": {},
     "output_type": "execute_result"
    }
   ],
   "source": [
    "# Reviewing for PHI/Security Implications\n",
    "# This dataset does not contain any names, the firstname and surname columns which can tie customers \n",
    "## to personal information has been removed during cleaning. \n",
    "\n",
    "\n",
    "# These Columns are considered PII: First Name and Surname\n",
    "# These other columns are not needed in the investigation and were also cut for performance\n",
    "\n",
    "ords_prods_custs.head()"
   ]
  },
  {
   "cell_type": "markdown",
   "id": "0d7e6097",
   "metadata": {},
   "source": [
    "# Task #3 Regional Segmented Data"
   ]
  },
  {
   "cell_type": "code",
   "execution_count": 77,
   "id": "6addf1ec",
   "metadata": {},
   "outputs": [],
   "source": [
    "# This code fills a \"Region\" column with Northeast for Northeastern States depending on State column\n",
    "\n",
    "ords_prods_custs.loc[ords_prods_custs['State'].isin(['Maine','New Hampshire','Vermont','Massachusetts', 'Rhode Island','Connecticut','New York','Pennsylvania','New Jersey']), 'Region'] = 'Northeast'"
   ]
  },
  {
   "cell_type": "code",
   "execution_count": 78,
   "id": "431b66e6",
   "metadata": {},
   "outputs": [],
   "source": [
    "# This code fills a \"Region\" column with Midwest for Midwestern States depending on State column\n",
    "\n",
    "ords_prods_custs.loc[ords_prods_custs['State'].isin(['Wisconsin','Michigan','Illinois','Indiana', 'Ohio', 'North Dakota','South Dakota','Nebraska','Kansas','Minnesota','Iowa','Missouri']), 'Region'] = 'Midwest'"
   ]
  },
  {
   "cell_type": "code",
   "execution_count": 79,
   "id": "79790b54",
   "metadata": {},
   "outputs": [],
   "source": [
    "# This code fills a \"Region\" column with South for Southern States depending on State column\n",
    "\n",
    "ords_prods_custs.loc[ords_prods_custs['State'].isin(['Delaware', 'Maryland','District of Columbia','Virginia','West Virginia','North Carolina','South Carolina', 'Georgia','Florida','Kentucky', 'Tennessee', 'Mississippi', 'Alabama', 'Oklahoma', 'Texas', 'Arkansas', 'Louisiana']), 'Region'] = 'South'"
   ]
  },
  {
   "cell_type": "code",
   "execution_count": 80,
   "id": "48b87a20",
   "metadata": {},
   "outputs": [],
   "source": [
    "# This code fills a \"Region\" column with West for Western States depending on State column\n",
    "\n",
    "ords_prods_custs.loc[ords_prods_custs['State'].isin(['Idaho', 'Montana','Wyoming','Nevada','Utah','Colorado','Arizona','New Mexico','Alaska','Washington','Oregon','California','Hawaii']), 'Region'] = 'West'"
   ]
  },
  {
   "cell_type": "code",
   "execution_count": 81,
   "id": "b4f8b1f4",
   "metadata": {},
   "outputs": [
    {
     "data": {
      "text/plain": [
       "Series([], Name: count, dtype: int64)"
      ]
     },
     "execution_count": 81,
     "metadata": {},
     "output_type": "execute_result"
    }
   ],
   "source": [
    "# This code returns a list of all states that is not represented with a region\n",
    "# Used to check missing entries, missed states, null values\n",
    "\n",
    "ords_prods_custs['State'][ords_prods_custs['Region'].isnull() == True].value_counts(dropna=False)\n",
    "\n",
    "# Output is empty therefore all states and customers have been accounted for"
   ]
  },
  {
   "cell_type": "code",
   "execution_count": 82,
   "id": "9569c2b5",
   "metadata": {},
   "outputs": [
    {
     "data": {
      "text/html": [
       "<div>\n",
       "<style scoped>\n",
       "    .dataframe tbody tr th:only-of-type {\n",
       "        vertical-align: middle;\n",
       "    }\n",
       "\n",
       "    .dataframe tbody tr th {\n",
       "        vertical-align: top;\n",
       "    }\n",
       "\n",
       "    .dataframe thead th {\n",
       "        text-align: right;\n",
       "    }\n",
       "</style>\n",
       "<table border=\"1\" class=\"dataframe\">\n",
       "  <thead>\n",
       "    <tr style=\"text-align: right;\">\n",
       "      <th>Spending_Flag</th>\n",
       "      <th>High_spender</th>\n",
       "      <th>Low_spender</th>\n",
       "    </tr>\n",
       "    <tr>\n",
       "      <th>Region</th>\n",
       "      <th></th>\n",
       "      <th></th>\n",
       "    </tr>\n",
       "  </thead>\n",
       "  <tbody>\n",
       "    <tr>\n",
       "      <th>Midwest</th>\n",
       "      <td>155975</td>\n",
       "      <td>7441350</td>\n",
       "    </tr>\n",
       "    <tr>\n",
       "      <th>Northeast</th>\n",
       "      <td>108225</td>\n",
       "      <td>5614511</td>\n",
       "    </tr>\n",
       "    <tr>\n",
       "      <th>South</th>\n",
       "      <td>209691</td>\n",
       "      <td>10582194</td>\n",
       "    </tr>\n",
       "    <tr>\n",
       "      <th>West</th>\n",
       "      <td>160354</td>\n",
       "      <td>8132559</td>\n",
       "    </tr>\n",
       "  </tbody>\n",
       "</table>\n",
       "</div>"
      ],
      "text/plain": [
       "Spending_Flag  High_spender  Low_spender\n",
       "Region                                  \n",
       "Midwest              155975      7441350\n",
       "Northeast            108225      5614511\n",
       "South                209691     10582194\n",
       "West                 160354      8132559"
      ]
     },
     "execution_count": 82,
     "metadata": {},
     "output_type": "execute_result"
    }
   ],
   "source": [
    "# Creating Crosstab with Spending Flag\n",
    "\n",
    "pd.crosstab(ords_prods_custs['Region'],ords_prods_custs['Spending_Flag'],dropna=False)"
   ]
  },
  {
   "cell_type": "markdown",
   "id": "e7fa6baa",
   "metadata": {},
   "source": [
    "### Observation:\n",
    "\n",
    "It seems that the south has the highest amount of spenders with the West, Midwest, and the Northeast following suit. The percentage of High spenders and low spenders stay relatively similar in both regions at 2% of total spenders compared to low spenders which has 98%. \n"
   ]
  },
  {
   "cell_type": "markdown",
   "id": "cc2433bc",
   "metadata": {},
   "source": [
    "# Task #4 Exclusion Flag for Low Activity Customers"
   ]
  },
  {
   "cell_type": "code",
   "execution_count": 83,
   "id": "ce40c7c1",
   "metadata": {
    "scrolled": true
   },
   "outputs": [
    {
     "data": {
      "text/plain": [
       "0    32\n",
       "1    32\n",
       "2    32\n",
       "3    32\n",
       "4    32\n",
       "Name: max_order, dtype: int64"
      ]
     },
     "execution_count": 83,
     "metadata": {},
     "output_type": "execute_result"
    }
   ],
   "source": [
    "ords_prods_custs['max_order'].head()"
   ]
  },
  {
   "cell_type": "code",
   "execution_count": 84,
   "id": "1a4321f2",
   "metadata": {},
   "outputs": [],
   "source": [
    "# This code creates an array active_bool that enters either true or false depending on amount of orders in max_order\n",
    "\n",
    "active_bool = []\n",
    "\n",
    "for orders in ords_prods_custs[\"max_order\"]:\n",
    "  if orders < 5:\n",
    "    active_bool.append(False)\n",
    "  else:\n",
    "    active_bool.append(True)"
   ]
  },
  {
   "cell_type": "code",
   "execution_count": 85,
   "id": "d1b4f276",
   "metadata": {},
   "outputs": [],
   "source": [
    "# Creates a new column cust_active that returns \n",
    "ords_prods_custs['Customer_activity'] = active_bool"
   ]
  },
  {
   "cell_type": "code",
   "execution_count": 86,
   "id": "196d9477",
   "metadata": {},
   "outputs": [],
   "source": [
    "ords_prods_custs_NotActive = ords_prods_custs[ords_prods_custs['Customer_activity'] == False]"
   ]
  },
  {
   "cell_type": "code",
   "execution_count": 93,
   "id": "aa1364f3",
   "metadata": {},
   "outputs": [],
   "source": [
    "ords_prods_cust_Active = ords_prods_custs[ords_prods_custs['Customer_activity'] == True]"
   ]
  },
  {
   "cell_type": "code",
   "execution_count": 94,
   "id": "de6120d9",
   "metadata": {},
   "outputs": [],
   "source": [
    "# This code exports the subset of non-active customers\n",
    "\n",
    "ords_prods_cust_Active.to_pickle(os.path.join(path3,'Exercise 4.10','05 Sent to Client','Non Active Customers.pkl'))"
   ]
  },
  {
   "cell_type": "code",
   "execution_count": 95,
   "id": "877cfd3c",
   "metadata": {},
   "outputs": [],
   "source": [
    "# This code exports the subset of active customers\n",
    "\n",
    "ords_prods_cust_Active.to_pickle(os.path.join(path3,'Exercise 4.10','05 Sent to Client','Active Customers.pkl'))"
   ]
  },
  {
   "cell_type": "code",
   "execution_count": 96,
   "id": "76f83d5d",
   "metadata": {},
   "outputs": [
    {
     "data": {
      "text/plain": [
       "Customer_activity\n",
       "True    30964564\n",
       "Name: count, dtype: int64"
      ]
     },
     "execution_count": 96,
     "metadata": {},
     "output_type": "execute_result"
    }
   ],
   "source": [
    "# Code to check if all values have been assigned to each entry, checks for null values\n",
    "\n",
    "ords_prods_custs_NotActive['Customer_activity'].value_counts(dropna=False)\n",
    "ords_prods_cust_Active['Customer_activity'].value_counts(dropna=False)"
   ]
  },
  {
   "cell_type": "markdown",
   "id": "d3cb5205",
   "metadata": {},
   "source": [
    "# Task #5 Customer Profiles"
   ]
  },
  {
   "cell_type": "markdown",
   "id": "4a8322d8",
   "metadata": {},
   "source": [
    "This section only analyzes Age group and Family Status variables of customer profiles. Many more variables and profiles are analyzed in Part II. "
   ]
  },
  {
   "cell_type": "code",
   "execution_count": null,
   "id": "6ebe1e85",
   "metadata": {},
   "outputs": [],
   "source": [
    "columns2 = ['max_order', 'Customer_activity']\n",
    "ords_prods_cust_Active.drop(columns2, axis=1, inplace=True)\n",
    "ords_prods_cust_Active = ords_prods_cust_Active\n",
    "ords_prods_cust_Active.info()"
   ]
  },
  {
   "cell_type": "markdown",
   "id": "bb9a97cd",
   "metadata": {},
   "source": [
    "## Age Group and Family Status Profiles"
   ]
  },
  {
   "cell_type": "code",
   "execution_count": 11,
   "id": "23bd543d",
   "metadata": {},
   "outputs": [],
   "source": [
    "# Create Family Status based on Age\n",
    "\n",
    "# These lines are conditional statements for determining age based on old or young \n",
    "## and also determines which family status each customer has for each age group\n",
    "cond_yoMarried = (ords_prods_cust_Active['Age'] <=40) & (ords_prods_cust_Active['fam_status'] == 'married')\n",
    "cond_yoSingle = (ords_prods_cust_Active['Age'] <=40) & (ords_prods_cust_Active['fam_status'] == 'single')\n",
    "cond_yoDivorced = (ords_prods_cust_Active['Age'] <=40) & (ords_prods_cust_Active['fam_status'] == 'divorced/widowed')\n",
    "cond_yoDependent = (ords_prods_cust_Active['Age'] <=40) & (ords_prods_cust_Active['fam_status'] == 'living with parents and siblings')\n",
    "\n",
    "cond_oldMarried = (ords_prods_cust_Active['Age'] > 40) & (ords_prods_cust_Active['fam_status'] == 'married')\n",
    "cond_oldSingle = (ords_prods_cust_Active['Age'] > 40) & (ords_prods_cust_Active['fam_status'] == 'single')\n",
    "cond_oldDivorced = (ords_prods_cust_Active['Age'] > 40) & (ords_prods_cust_Active['fam_status'] == 'divorced/widowed')\n",
    "cond_oldDependent = (ords_prods_cust_Active['Age'] > 40) & (ords_prods_cust_Active['fam_status'] == 'living with parents and siblings')\n",
    "\n",
    "\n",
    "# This Code creates a new column 'Profile' which categorizes each customer on their age group young or old and family status\n",
    "ords_prods_cust_Active.loc[cond_yoMarried, 'Profile'] = 'Young and Married'\n",
    "ords_prods_cust_Active.loc[cond_yoSingle, 'Profile'] = 'Young and Single'\n",
    "ords_prods_cust_Active.loc[cond_yoDivorced, 'Profile'] = 'Young and Divorced'\n",
    "ords_prods_cust_Active.loc[cond_yoDependent, 'Profile'] = 'Young and Dependent'\n",
    "\n",
    "ords_prods_cust_Active.loc[cond_oldMarried, 'Profile'] = 'Old and Married'\n",
    "ords_prods_cust_Active.loc[cond_oldSingle, 'Profile'] = 'Old and Single'\n",
    "ords_prods_cust_Active.loc[cond_oldDivorced, 'Profile'] = 'Old and Divorced'\n",
    "ords_prods_cust_Active.loc[cond_oldDependent, 'Profile'] = 'Old and Dependent'"
   ]
  },
  {
   "cell_type": "code",
   "execution_count": 12,
   "id": "1a5da8bf",
   "metadata": {
    "scrolled": true
   },
   "outputs": [
    {
     "data": {
      "text/plain": [
       "Profile\n",
       "Old and Married        14856709\n",
       "Young and Married       6887002\n",
       "Young and Single        2780259\n",
       "Old and Divorced        2645271\n",
       "Old and Single          2314151\n",
       "Young and Dependent     1481172\n",
       "Name: count, dtype: int64"
      ]
     },
     "execution_count": 12,
     "metadata": {},
     "output_type": "execute_result"
    }
   ],
   "source": [
    "# This code checks for nulls and looks at value_count for all profile types\n",
    "ords_prods_cust_Active['Profile'].value_counts(dropna=False)\n",
    "\n",
    "# Output shows no null values and total of all counts equals total entries in ords_prods_cust_Active dataset\n",
    "\n",
    "# This output seems logically valid as most people who are older are mostly married, \n",
    "# and people who are young are mostly either married or single, few (18+) are still dependent"
   ]
  },
  {
   "cell_type": "markdown",
   "id": "d48b2118",
   "metadata": {},
   "source": [
    "# Task #6 Create Visualization"
   ]
  },
  {
   "cell_type": "markdown",
   "id": "ee6fc2f1",
   "metadata": {},
   "source": [
    "### Age Group and Family Status Profiles Visualization"
   ]
  },
  {
   "cell_type": "code",
   "execution_count": 13,
   "id": "24739b0e",
   "metadata": {
    "scrolled": false
   },
   "outputs": [
    {
     "data": {
      "image/png": "[encoded data removed]",
      "text/plain": [
       "<Figure size 640x480 with 1 Axes>"
      ]
     },
     "metadata": {},
     "output_type": "display_data"
    }
   ],
   "source": [
    "# creating histogram object to show distribution of consumer ages to determine flag criteria\n",
    "\n",
    "bar_profiles = ords_prods_cust_Active['Profile'].value_counts().plot.bar(color = ['orange', 'blue', 'green', 'red', 'yellow', 'purple'])\n",
    "\n",
    "# This bar chart shows the amount of customers in each demographic profile. The majority seems to be older individuals who are married."
   ]
  },
  {
   "cell_type": "markdown",
   "id": "326dbb9d",
   "metadata": {},
   "source": [
    "# Exporting Dataset for Part II #"
   ]
  },
  {
   "cell_type": "code",
   "execution_count": 14,
   "id": "580fd45b",
   "metadata": {},
   "outputs": [],
   "source": [
    "ords_prods_cust_Active.to_pickle(os.path.join(path3,'Exercise 4.10','02 Data','Active Customers Dataset.pkl'))"
   ]
  }
 ],
 "metadata": {
  "kernelspec": {
   "display_name": "Python 3 (ipykernel)",
   "language": "python",
   "name": "python3"
  },
  "language_info": {
   "codemirror_mode": {
    "name": "ipython",
    "version": 3
   },
   "file_extension": ".py",
   "mimetype": "text/x-python",
   "name": "python",
   "nbconvert_exporter": "python",
   "pygments_lexer": "ipython3",
   "version": "3.11.5"
  }
 },
 "nbformat": 4,
 "nbformat_minor": 5
}
